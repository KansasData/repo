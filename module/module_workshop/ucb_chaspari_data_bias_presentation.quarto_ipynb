{
  "cells": [
    {
      "cell_type": "markdown",
      "metadata": {},
      "source": [
        "---\n",
        "title: \"Data Bias and Fairness Series: Deconstructing and Mitigating Socio-Demographic Bias in AI Algorithms for Mental Health\"\n",
        "subtitle: \"Workshop Material\"\n",
        "author: \"Theodora Chaspari\"\n",
        "description: \"University of Colorado Boulder\"\n",
        "categories: [Ethical Problem Solving, Data Bias and Fairness]\n",
        "toc: true\n",
        "toc-title: \"On this page\"\n",
        "---\n",
        "\n",
        "\n",
        "## Material Description\n",
        "\n",
        "Dr. Chaspari's presentation on \"Deconstructing and Mitigating Socio-Demographic Bias in AI Algorithms for Mental Health\" for the Data Bias and Fairness Speaker Series. In this lecture, Dr. Chaspari spoke about AI algorithms and their relation to mental health outcomes. She relayed useful lessons regarding data science principles in research and machine learning.\n",
        "\n",
        "## Module Materials\n",
        "\n",
        "\n",
        "```{html}\n",
        "https://mediahub.ku.edu/media/t/1_mvi35btn\n",
        "```\n",
        "\n",
        "\n",
        "This Material is under the [CC BY-NC license](https://creativecommons.org/licenses/by-nc/4.0/deed.en)"
      ],
      "id": "61eadb88"
    }
  ],
  "metadata": {
    "kernelspec": {
      "display_name": "Python 3",
      "language": "python",
      "name": "python3"
    }
  },
  "nbformat": 4,
  "nbformat_minor": 5
}